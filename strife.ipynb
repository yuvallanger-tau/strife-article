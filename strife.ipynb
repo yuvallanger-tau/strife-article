{
 "metadata": {
  "name": "",
  "signature": "sha256:0a859a9befd92f43985009d26a79b25559752ffe22bd3c05806da531f5d4ba3b"
 },
 "nbformat": 3,
 "nbformat_minor": 0,
 "worksheets": [
  {
   "cells": [
    {
     "cell_type": "code",
     "collapsed": true,
     "input": [
      "%pylab inline\n",
      "import h5py\n",
      "from glob import glob\n",
      "from matplotlib import animation\n",
      "import os"
     ],
     "language": "python",
     "metadata": {},
     "outputs": [
      {
       "output_type": "stream",
       "stream": "stdout",
       "text": [
        "Populating the interactive namespace from numpy and matplotlib\n"
       ]
      }
     ],
     "prompt_number": 1
    },
    {
     "cell_type": "code",
     "collapsed": true,
     "input": [
      "filename_template_ccost_10 = 'data/avigdor-utcepoch-*-sth-{sth}-cth-{cth}-ccost-10.json*.h5'\n",
      "filename_template_ccost_30 = 'data/avigdor-utcepoch-*-sth-{sth}-cth-{cth}-ccost-30.json*.h5'\n",
      "filename_template_diffusion_02 = 'data/avigdor-utcepoch-*-sth-{sth}-cth-{cth}-ccost-36-D-0.2.json-*.h5'\n",
      "filename_template_diffusion_04 = 'data/avigdor-utcepoch-*-sth-{sth}-cth-{cth}-ccost-36-D-0.4.json-*.h5'\n",
      "\n",
      "def get_filename_list(filename_template):\n",
      "    return [[\n",
      "        glob(filename_template.format(\n",
      "            sth=row_i,\n",
      "            cth=col_i,\n",
      "        ))[0]\n",
      "    for col_i in range(10)]\n",
      "    for row_i in range(10)]\n",
      "\n",
      "def open_h5py_files(filename_list_list):\n",
      "    return [[h5py.File(filename)\n",
      "             for filename in filename_list]\n",
      "             for filename_list in filename_list_list]\n",
      "\n",
      "ff=dict()\n",
      "ff['ccost_10'] = open_h5py_files(get_filename_list(filename_template_ccost_10))\n",
      "ff['ccost_30'] = open_h5py_files(get_filename_list(filename_template_ccost_30))\n",
      "ff['diffusion_02'] = open_h5py_files(get_filename_list(filename_template_diffusion_02))\n",
      "ff['diffusion_04'] = open_h5py_files(get_filename_list(filename_template_diffusion_04))"
     ],
     "language": "python",
     "metadata": {},
     "outputs": [],
     "prompt_number": 2
    },
    {
     "cell_type": "code",
     "collapsed": true,
     "input": [
      "def beaut(fig, axes):\n",
      "    for row_i, axes_row in enumerate(axes):\n",
      "        for col_i, ax in enumerate(axes_row):\n",
      "            ax.set_xticks([])\n",
      "            ax.set_yticks([])\n",
      "                \n",
      "            if col_i == 0:\n",
      "                ax.set_ylabel(str(row_i))\n",
      "                \n",
      "            if row_i == 9:\n",
      "                ax.set_xlabel(str(col_i))\n",
      "    \n",
      "    plt.figtext(\n",
      "        0.5,\n",
      "        0,\n",
      "        \"public goods effect threshold\",\n",
      "        figure=fig,\n",
      "        fontsize=17,\n",
      "        horizontalalignment='center',\n",
      "        verticalalignment='top',\n",
      "    )\n",
      "    plt.figtext(\n",
      "        0,\n",
      "        0.5,\n",
      "        \"quorum sensing threshold\",\n",
      "        figure=fig,\n",
      "        fontsize=17,\n",
      "        horizontalalignment='right',\n",
      "        verticalalignment='center',\n",
      "        rotation=90,\n",
      "    )\n",
      "    fig.tight_layout()"
     ],
     "language": "python",
     "metadata": {},
     "outputs": [],
     "prompt_number": 3
    },
    {
     "cell_type": "code",
     "collapsed": true,
     "input": [
      "def make_plots(data, plotter):\n",
      "    fig, axes = plt.subplots(\n",
      "        figsize=(13,13),\n",
      "        nrows=10,\n",
      "        ncols=10,\n",
      "    )\n",
      "    \n",
      "    for row_i in range(10):\n",
      "        for col_i in range(10):\n",
      "                plotter(axes, data, row_i, col_i)\n",
      "                \n",
      "    beaut(fig, axes)\n",
      "    \n",
      "    return fig, axes"
     ],
     "language": "python",
     "metadata": {},
     "outputs": [],
     "prompt_number": 4
    },
    {
     "cell_type": "code",
     "collapsed": true,
     "input": [
      "def get_simulation_freqs_data_list(ff_list_list):\n",
      "    return [[\n",
      "        ff['/DataSamples/Frequencies/Data'][:, 4:]\n",
      "    for ff in ff_list]\n",
      "    for ff_list in ff_list_list]"
     ],
     "language": "python",
     "metadata": {},
     "outputs": [],
     "prompt_number": 5
    },
    {
     "cell_type": "code",
     "collapsed": false,
     "input": [
      "def freqs_plotter(axes, freqs_data, sth, cth):\n",
      "    for strain_i in range(4):\n",
      "        axes[sth][cth].plot(\n",
      "            freqs_data[sth][cth][:, strain_i],\n",
      "            label=str(strain_i),\n",
      "        )"
     ],
     "language": "python",
     "metadata": {},
     "outputs": [],
     "prompt_number": 6
    },
    {
     "cell_type": "code",
     "collapsed": false,
     "input": [
      "def make_freqs_plots(ff_list_list):\n",
      "    data = get_simulation_freqs_data_list(ff_list_list)\n",
      "    fig, axes = make_plots(data, freqs_plotter)\n",
      "    \n",
      "    return fig, axes"
     ],
     "language": "python",
     "metadata": {},
     "outputs": [],
     "prompt_number": 7
    },
    {
     "cell_type": "code",
     "collapsed": false,
     "input": [
      "#make_freqs_plots(ff['ccost_10']);"
     ],
     "language": "python",
     "metadata": {},
     "outputs": [],
     "prompt_number": 8
    },
    {
     "cell_type": "code",
     "collapsed": false,
     "input": [
      "#make_freqs_plots(ff['ccost_30']);"
     ],
     "language": "python",
     "metadata": {},
     "outputs": [],
     "prompt_number": 9
    },
    {
     "cell_type": "code",
     "collapsed": false,
     "input": [
      "#make_freqs_plots(ff['diffusion_02']);"
     ],
     "language": "python",
     "metadata": {},
     "outputs": [],
     "prompt_number": 10
    },
    {
     "cell_type": "code",
     "collapsed": true,
     "input": [
      "#make_freqs_plots(ff['diffusion_04']);"
     ],
     "language": "python",
     "metadata": {},
     "outputs": [],
     "prompt_number": 11
    },
    {
     "cell_type": "code",
     "collapsed": true,
     "input": [
      "h5_snapshots_data_path = '/DataSamples/Snapshots/Data'\n",
      "\n",
      "\n",
      "# https://stackoverflow.com/questions/9707676/defining-a-discrete-colormap-for-imshow-in-matplotlib\n",
      "\n",
      "def animate_func(ff_list_list, im_list_list, snapshot_i):\n",
      "    for im_list, ff_list in zip(im_list_list, ff_list_list):\n",
      "        for im, ff in zip(im_list, ff_list):\n",
      "            im.set_data(ff[h5_snapshots_data_path][snapshot_i])\n",
      "\n",
      "def make_pngs(ff_list_list, fname):\n",
      "    # make a color map of fixed colors\n",
      "    cmap = mpl.colors.ListedColormap(['black', 'cyan', 'yellow', 'magenta'])\n",
      "    bounds = [4, 5, 6, 7, 8]\n",
      "    norm = mpl.colors.BoundaryNorm(bounds, cmap.N)\n",
      "    \n",
      "    fig, axes = plt.subplots(\n",
      "        figsize=(13,13),\n",
      "        nrows=10,\n",
      "        ncols=10,\n",
      "    )\n",
      "        \n",
      "    im_list_list = [[\n",
      "        # tell imshow about color map so that only set colors are used\n",
      "        ax.imshow(\n",
      "            ff[h5_snapshots_data_path][0],\n",
      "            interpolation='nearest',\n",
      "            origin='lower',\n",
      "            cmap=cmap,\n",
      "            norm=norm,\n",
      "        )\n",
      "        for ff, ax in zip(ff_row, axes_row)]\n",
      "        for ff_row, axes_row in zip(ff_list_list, axes)]\n",
      "\n",
      "    beaut(fig, axes)\n",
      "    \n",
      "    for snapshot_i in range(201):\n",
      "        animate_func(ff_list_list, im_list_list, snapshot_i)\n",
      "        temp_fname = '_tmp{:03d}'.format(snapshot_i)+fname+'.png'\n",
      "        fig.savefig(temp_fname)\n",
      "\n",
      "        \n",
      "def make_video(fname):\n",
      "    print 'Making movie animation.mpg - this make take a while'\n",
      "    os.system(\n",
      "        \"mencoder mf://_tmp*-\" +fname + \".png \"\n",
      "        \"-mf type=png \"\n",
      "        \"-oac copy \"\n",
      "        \"-ovc lavc \"\n",
      "        \"-lavcopts vcodec=ffv1 \"\n",
      "        \"-o video-\" + fname + \".mp4\"\n",
      "    )"
     ],
     "language": "python",
     "metadata": {},
     "outputs": [],
     "prompt_number": 32
    },
    {
     "cell_type": "code",
     "collapsed": true,
     "input": [
      "make_pngs(ff['ccost_10'], 'ccost-10')"
     ],
     "language": "python",
     "metadata": {},
     "outputs": []
    },
    {
     "cell_type": "code",
     "collapsed": true,
     "input": [
      "make_pngs(ff['ccost_30'], 'ccost-30')"
     ],
     "language": "python",
     "metadata": {},
     "outputs": []
    },
    {
     "cell_type": "code",
     "collapsed": true,
     "input": [
      "make_pngs(ff['diffusion_02'], 'diffusion-02')"
     ],
     "language": "python",
     "metadata": {},
     "outputs": []
    },
    {
     "cell_type": "code",
     "collapsed": true,
     "input": [
      "make_pngs(ff['diffusion_04'], 'diffusion-04')"
     ],
     "language": "python",
     "metadata": {},
     "outputs": []
    },
    {
     "cell_type": "code",
     "collapsed": false,
     "input": [
      "make_video('ccost-10')"
     ],
     "language": "python",
     "metadata": {},
     "outputs": [
      {
       "output_type": "stream",
       "stream": "stdout",
       "text": [
        "Making movie animation.mpg - this make take a while\n"
       ]
      }
     ],
     "prompt_number": 41
    },
    {
     "cell_type": "code",
     "collapsed": false,
     "input": [
      "make_video('ccost-30')"
     ],
     "language": "python",
     "metadata": {},
     "outputs": [
      {
       "output_type": "stream",
       "stream": "stdout",
       "text": [
        "Making movie animation.mpg - this make take a while\n"
       ]
      }
     ],
     "prompt_number": 42
    },
    {
     "cell_type": "code",
     "collapsed": false,
     "input": [
      "make_video('diffusion-02')"
     ],
     "language": "python",
     "metadata": {},
     "outputs": [
      {
       "output_type": "stream",
       "stream": "stdout",
       "text": [
        "Making movie animation.mpg - this make take a while\n"
       ]
      }
     ],
     "prompt_number": 43
    },
    {
     "cell_type": "code",
     "collapsed": false,
     "input": [
      "make_video('diffusion-04')"
     ],
     "language": "python",
     "metadata": {},
     "outputs": [
      {
       "output_type": "stream",
       "stream": "stdout",
       "text": [
        "Making movie animation.mpg - this make take a while\n"
       ]
      }
     ],
     "prompt_number": 44
    },
    {
     "cell_type": "code",
     "collapsed": false,
     "input": [
      "ff['']"
     ],
     "language": "python",
     "metadata": {},
     "outputs": [
      {
       "ename": "KeyError",
       "evalue": "''",
       "output_type": "pyerr",
       "traceback": [
        "\u001b[1;31m---------------------------------------------------------------------------\u001b[0m\n\u001b[1;31mKeyError\u001b[0m                                  Traceback (most recent call last)",
        "\u001b[1;32m<ipython-input-21-2fb7ada1fe38>\u001b[0m in \u001b[0;36m<module>\u001b[1;34m()\u001b[0m\n\u001b[1;32m----> 1\u001b[1;33m \u001b[0mff\u001b[0m\u001b[1;33m[\u001b[0m\u001b[1;34m''\u001b[0m\u001b[1;33m]\u001b[0m\u001b[1;33m\u001b[0m\u001b[0m\n\u001b[0m",
        "\u001b[1;31mKeyError\u001b[0m: ''"
       ]
      }
     ],
     "prompt_number": 21
    }
   ],
   "metadata": {}
  }
 ]
}