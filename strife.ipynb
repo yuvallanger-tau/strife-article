{
 "metadata": {
  "name": "",
  "signature": "sha256:a7ac2537bb5833c1ec7e66f8df53380fd7f404cfcab664b8de36faa5e1c3ef1c"
 },
 "nbformat": 3,
 "nbformat_minor": 0,
 "worksheets": [
  {
   "cells": [
    {
     "cell_type": "code",
     "collapsed": false,
     "input": [],
     "language": "python",
     "metadata": {},
     "outputs": []
    }
   ],
   "metadata": {}
  }
 ]
}